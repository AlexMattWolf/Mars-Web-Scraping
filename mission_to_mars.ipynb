{
 "cells": [
  {
   "cell_type": "code",
   "execution_count": 1,
   "metadata": {
    "slideshow": {
     "slide_type": "slide"
    }
   },
   "outputs": [],
   "source": [
    "import pandas as pd\n",
    "from splinter import Browser\n",
    "from bs4 import BeautifulSoup\n",
    "import time"
   ]
  },
  {
   "cell_type": "code",
   "execution_count": 2,
   "metadata": {
    "slideshow": {
     "slide_type": "fragment"
    }
   },
   "outputs": [],
   "source": [
    "#Set up Urls to sites for scraping\n",
    "nasa_url = 'https://mars.nasa.gov/news/'\n",
    "jpl_url = 'https://www.jpl.nasa.gov/spaceimages/?search=&category=Mars'\n",
    "twit_url = 'https://twitter.com/marswxreport?lang=en'\n",
    "facts_url = 'https://space-facts.com/mars/'\n",
    "usgs_url = 'https://astrogeology.usgs.gov/search/results?q=hemisphere+enhanced&k1=target&v1=Mars'"
   ]
  },
  {
   "cell_type": "code",
   "execution_count": 3,
   "metadata": {},
   "outputs": [],
   "source": [
    "#Chrome driver path\n",
    "executable_path = {'executable_path': 'chromedriver.exe'}\n",
    "browser = Browser('chrome', **executable_path, headless=False)\n",
    "stop = 5"
   ]
  },
  {
   "cell_type": "code",
   "execution_count": 4,
   "metadata": {},
   "outputs": [
    {
     "name": "stdout",
     "output_type": "stream",
     "text": [
      "NASA's Treasure Map for Water Ice on Mars\n",
      "A new study identifies frozen water just below the Martian surface, where astronauts could easily dig it up.\n"
     ]
    }
   ],
   "source": [
    "#Scrape latest news by finding first (latest) headline and tease.\n",
    "browser.visit(nasa_url)\n",
    "i = 0\n",
    "\n",
    "#Code runs faster than brower? Error \"Nonetype\", use while loops to re-run code if doesn't work first time but only rerun max\n",
    "# 3 times. IF still errors may NEED RESTART\n",
    "while i < stop:\n",
    "    try:\n",
    "        html = browser.html\n",
    "        soup = BeautifulSoup(html, 'html.parser')\n",
    "        \n",
    "        nasa_title = soup.find('div', class_='content_title').text\n",
    "        nasa_tease = soup.find('div', class_='article_teaser_body').text\n",
    "        i = stop\n",
    "    except:\n",
    "        i += 1\n",
    "    \n",
    "    \n",
    "print(nasa_title)\n",
    "print(nasa_tease)"
   ]
  },
  {
   "cell_type": "code",
   "execution_count": 5,
   "metadata": {
    "slideshow": {
     "slide_type": "fragment"
    }
   },
   "outputs": [
    {
     "name": "stdout",
     "output_type": "stream",
     "text": [
      "https://www.jpl.nasa.gov/spaceimages/images/largesize/PIA00271_hires.jpg\n"
     ]
    }
   ],
   "source": [
    "#Scrape latest featured jpl image by navigating to image details pages through full image button > more info button\n",
    "browser.visit(jpl_url)\n",
    "i = 0\n",
    "\n",
    "while i < stop:\n",
    "    try:\n",
    "        html = browser.html\n",
    "        soup = BeautifulSoup(html, 'html.parser')\n",
    "\n",
    "        #Click full image button so more info button becomes visible\n",
    "        browser.find_link_by_partial_text('FULL IMAGE').first.click()\n",
    "        i = stop\n",
    "    except:\n",
    "        i += 1\n",
    "        \n",
    "\n",
    "#slow down, page may not be keeping up with code speed. errors out when code executes faster than page loads.\n",
    "time.sleep(5)\n",
    "i = 0\n",
    "\n",
    "while i < stop:\n",
    "    try:\n",
    "        #reload html with more info button now visible\n",
    "        html = browser.html\n",
    "        soup = BeautifulSoup(html, 'html.parser')\n",
    "        browser.find_link_by_partial_text('more info').first.click()\n",
    "\n",
    "        #load new html of new url\n",
    "        html = browser.html\n",
    "        soup = BeautifulSoup(html, 'html.parser')\n",
    "\n",
    "        img = soup.find('img', class_='main_image')\n",
    "        featured_image_url = 'https://www.jpl.nasa.gov' + img['src']\n",
    "        i = stop\n",
    "    except:\n",
    "        i += 1\n",
    "        \n",
    "\n",
    "print(featured_image_url)"
   ]
  },
  {
   "cell_type": "code",
   "execution_count": 6,
   "metadata": {
    "slideshow": {
     "slide_type": "fragment"
    }
   },
   "outputs": [
    {
     "name": "stdout",
     "output_type": "stream",
     "text": [
      "InSight sol 373 (2019-12-14) low -98.1ºC (-144.6ºF) high -20.1ºC (-4.1ºF)\n",
      "winds from the SW at 4.9 m/s (11.1 mph) gusting to 19.7 m/s (44.0 mph)\n",
      "pressure at 6.60 hPa\n"
     ]
    }
   ],
   "source": [
    "#Scrape twitter for latest mars weather tweet. If there's a picuture in tweet, exclude picuture reference text.\n",
    "browser.visit(twit_url)\n",
    "i = 0\n",
    "\n",
    "while i < stop:\n",
    "    try:\n",
    "        html = browser.html\n",
    "        soup = BeautifulSoup(html, 'html.parser')\n",
    "\n",
    "        twit = soup.find('p', class_='TweetTextSize')\n",
    "        mars_weather = twit.text\n",
    "\n",
    "        i = stop\n",
    "    except:\n",
    "        i += 1\n",
    "\n",
    "#filter out picture references/text\n",
    "pics = ['…pic', 'pic.twitter']\n",
    "\n",
    "for x in pics:\n",
    "    if x in mars_weather:\n",
    "        mars_weather = twit.text.split(x)[0]\n",
    "\n",
    "print(mars_weather)"
   ]
  },
  {
   "cell_type": "code",
   "execution_count": 31,
   "metadata": {
    "slideshow": {
     "slide_type": "fragment"
    }
   },
   "outputs": [
    {
     "data": {
      "text/plain": [
       "'<table  class=\"dataframe\">  <thead>    <tr >      <th>Mars</th>      <th>Facts</th>    </tr>  </thead>  <tbody>    <tr>      <td>Equatorial Diameter:</td>      <td>6,792 km</td>    </tr>    <tr>      <td>Polar Diameter:</td>      <td>6,752 km</td>    </tr>    <tr>      <td>Mass:</td>      <td>6.39 × 10^23 kg (0.11 Earths)</td>    </tr>    <tr>      <td>Moons:</td>      <td>2 (Phobos &amp; Deimos)</td>    </tr>    <tr>      <td>Orbit Distance:</td>      <td>227,943,824 km (1.38 AU)</td>    </tr>    <tr>      <td>Orbit Period:</td>      <td>687 days (1.9 years)</td>    </tr>    <tr>      <td>Surface Temperature:</td>      <td>-87 to -5 °C</td>    </tr>    <tr>      <td>First Record:</td>      <td>2nd millennium BC</td>    </tr>    <tr>      <td>Recorded By:</td>      <td>Egyptian astronomers</td>    </tr>  </tbody></table>'"
      ]
     },
     "execution_count": 31,
     "metadata": {},
     "output_type": "execute_result"
    }
   ],
   "source": [
    "#Get tables from space facts, select only mars facts table, save in html formal and remove newline codes \n",
    "\n",
    "attrs = {'id': 'tablepress-p-mars-no-2'}\n",
    "tables = pd.read_html(facts_url, attrs = attrs)\n",
    "\n",
    "col = [\"Mars\", \"Facts\"]\n",
    "\n",
    "Mars_df = tables[0]\n",
    "Mars_df.columns = col\n",
    "# Mars_df = Mars_df.set_index(col[0]).reset_index()\n",
    "Mars_tb = Mars_df.to_html(index = False).replace('\\n', '').replace('style=\"text-align: right;\"', '')\\\n",
    ".replace('border=\"1\"', '')\n",
    "\n",
    "Mars_tb"
   ]
  },
  {
   "cell_type": "code",
   "execution_count": 8,
   "metadata": {
    "slideshow": {
     "slide_type": "fragment"
    }
   },
   "outputs": [
    {
     "data": {
      "text/plain": [
       "[{'titles': 'Cerberus Hemisphere Enhanced',\n",
       "  'img_url': 'https://astrogeology.usgs.gov/cache/images/cfa62af2557222a02478f1fcd781d445_cerberus_enhanced.tif_full.jpg'},\n",
       " {'titles': 'Schiaparelli Hemisphere Enhanced',\n",
       "  'img_url': 'https://astrogeology.usgs.gov/cache/images/cfa62af2557222a02478f1fcd781d445_cerberus_enhanced.tif_full.jpg'},\n",
       " {'titles': 'Syrtis Major Hemisphere Enhanced',\n",
       "  'img_url': 'https://astrogeology.usgs.gov/cache/images/cfa62af2557222a02478f1fcd781d445_cerberus_enhanced.tif_full.jpg'},\n",
       " {'titles': 'Valles Marineris Hemisphere Enhanced',\n",
       "  'img_url': 'https://astrogeology.usgs.gov/cache/images/cfa62af2557222a02478f1fcd781d445_cerberus_enhanced.tif_full.jpg'}]"
      ]
     },
     "execution_count": 8,
     "metadata": {},
     "output_type": "execute_result"
    }
   ],
   "source": [
    "#Scrape high resolution picutres of Mars' hemispheres, first get list of links on page, then iterate through links returning to \n",
    "# homepage then selecting next link using for loop. \n",
    "browser.visit(usgs_url)\n",
    "i = 0\n",
    "\n",
    "while i < stop:\n",
    "    try:\n",
    "        html = browser.html\n",
    "        soup = BeautifulSoup(html, 'html.parser')\n",
    "\n",
    "        link = soup.find_all('h3')\n",
    "        i = stop\n",
    "    except:\n",
    "        i += 1\n",
    "\n",
    "link_ls = [x.text for x in link]\n",
    "\n",
    "usgs_ls = []\n",
    "\n",
    "# print(link_ls)\n",
    "\n",
    "j = 0\n",
    "i = 0\n",
    "\n",
    "for x in link_ls:\n",
    "    while i < stop:\n",
    "        try:\n",
    "            browser.visit(usgs_url)\n",
    "            browser.click_link_by_partial_text(x)\n",
    "\n",
    "            html = browser.html\n",
    "            soup = BeautifulSoup(html, 'html.parser')\n",
    "            i = stop\n",
    "        except:\n",
    "            i += 1\n",
    "\n",
    "    img = soup.find('img', class_=\"wide-image\")\n",
    "    url = ('https://astrogeology.usgs.gov' + img['src'])\n",
    "    usgs_ls.append({'titles': link_ls[j], \"img_url\": url})\n",
    "    j += 1\n",
    "    \n",
    "usgs_ls"
   ]
  },
  {
   "cell_type": "code",
   "execution_count": 9,
   "metadata": {},
   "outputs": [],
   "source": [
    "browser.quit()"
   ]
  },
  {
   "cell_type": "code",
   "execution_count": null,
   "metadata": {},
   "outputs": [],
   "source": []
  }
 ],
 "metadata": {
  "kernelspec": {
   "display_name": "PythonData",
   "language": "python",
   "name": "pythondata"
  },
  "language_info": {
   "codemirror_mode": {
    "name": "ipython",
    "version": 3
   },
   "file_extension": ".py",
   "mimetype": "text/x-python",
   "name": "python",
   "nbconvert_exporter": "python",
   "pygments_lexer": "ipython3",
   "version": "3.6.8"
  },
  "varInspector": {
   "cols": {
    "lenName": 16,
    "lenType": 16,
    "lenVar": 40
   },
   "kernels_config": {
    "python": {
     "delete_cmd_postfix": "",
     "delete_cmd_prefix": "del ",
     "library": "var_list.py",
     "varRefreshCmd": "print(var_dic_list())"
    },
    "r": {
     "delete_cmd_postfix": ") ",
     "delete_cmd_prefix": "rm(",
     "library": "var_list.r",
     "varRefreshCmd": "cat(var_dic_list()) "
    }
   },
   "types_to_exclude": [
    "module",
    "function",
    "builtin_function_or_method",
    "instance",
    "_Feature"
   ],
   "window_display": false
  }
 },
 "nbformat": 4,
 "nbformat_minor": 2
}
